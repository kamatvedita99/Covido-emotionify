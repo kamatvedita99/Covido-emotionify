{
 "cells": [
  {
   "cell_type": "code",
   "execution_count": null,
   "metadata": {
    "colab": {
     "base_uri": "https://localhost:8080/",
     "height": 85
    },
    "colab_type": "code",
    "id": "6wF2auF-MpVp",
    "outputId": "8872abb9-f352-431b-de15-813fa3ab4826"
   },
   "outputs": [],
   "source": [
    "!pip install ConfigParser\n",
    "!pip install wordcloud"
   ]
  },
  {
   "cell_type": "code",
   "execution_count": null,
   "metadata": {},
   "outputs": [],
   "source": [
    "import re\n",
    "import pandas as pd\n",
    "import os\n",
    "import tweepy as tw\n",
    "import numpy as np\n",
    "import matplotlib.pyplot as plt\n",
    "import seaborn as sns\n",
    "import string\n",
    "import nltk\n",
    "import warnings\n",
    "warnings.filterwarnings(\"ignore\",category=DeprecationWarning)\n",
    "%matplotlib inline"
   ]
  },
  {
   "cell_type": "markdown",
   "metadata": {
    "colab_type": "text",
    "id": "b-PiMClfrxDu"
   },
   "source": [
    "[twitter]\n",
    "accesstoken=xxxx\n",
    "\n",
    "accesstokensecret=xxxx\n",
    "\n",
    "apikey=xxxxxx\n",
    "\n",
    "apisecretkey=xxxxxx\n",
    "\n",
    "googleapikey=xxxxxxx"
   ]
  },
  {
   "cell_type": "code",
   "execution_count": null,
   "metadata": {
    "colab": {
     "base_uri": "https://localhost:8080/",
     "height": 34
    },
    "colab_type": "code",
    "id": "bUTImyaELjg1",
    "outputId": "925b9252-f12b-475f-e4c2-9ec7505dd984"
   },
   "outputs": [],
   "source": [
    "import configparser\n",
    "config = configparser.RawConfigParser()\n",
    "config.read('./ML Project.txt')\n",
    "\n",
    "print(config.sections());\n"
   ]
  },
  {
   "cell_type": "code",
   "execution_count": null,
   "metadata": {
    "colab": {},
    "colab_type": "code",
    "id": "T_h2rf6gMm39"
   },
   "outputs": [],
   "source": []
  },
  {
   "cell_type": "code",
   "execution_count": null,
   "metadata": {
    "colab": {},
    "colab_type": "code",
    "id": "Ms8Hd6oJNQHg"
   },
   "outputs": [],
   "source": [
    "accesstoken=config.get('twitter', 'accesstoken')\n",
    "accesstokensecret=config.get('twitter', 'accesstokensecret')\n",
    "apikey=config.get('twitter', 'apikey')\n",
    "apisecretkey=config.get('twitter', 'apisecretkey')"
   ]
  },
  {
   "cell_type": "code",
   "execution_count": null,
   "metadata": {
    "colab": {},
    "colab_type": "code",
    "id": "w6Qdj6yPNds-"
   },
   "outputs": [],
   "source": [
    "auth = tw.OAuthHandler(apikey, apisecretkey)\n",
    "auth.set_access_token(accesstoken, accesstokensecret)\n",
    "api = tw.API(auth, wait_on_rate_limit=True)"
   ]
  },
  {
   "cell_type": "code",
   "execution_count": null,
   "metadata": {
    "colab": {},
    "colab_type": "code",
    "id": "mX8wpgLrR5HU"
   },
   "outputs": [],
   "source": [
    "search_words = \"#indiafightscorona\" \n",
    "date_since = \"2020-04-04\""
   ]
  },
  {
   "cell_type": "code",
   "execution_count": null,
   "metadata": {
    "colab": {},
    "colab_type": "code",
    "id": "vAOlJY7aSfiT"
   },
   "outputs": [],
   "source": [
    "tweets = tw.Cursor(api.search,\n",
    "              q=search_words,\n",
    "              lang=\"en\",\n",
    "              since=date_since).items(100)"
   ]
  },
  {
   "cell_type": "code",
   "execution_count": null,
   "metadata": {
    "colab": {
     "base_uri": "https://localhost:8080/",
     "height": 34
    },
    "colab_type": "code",
    "id": "RdCtP5wJStTb",
    "outputId": "3f2b8bfa-aa0c-402b-9981-7c9f4d7c4474"
   },
   "outputs": [],
   "source": [
    "tweets"
   ]
  },
  {
   "cell_type": "code",
   "execution_count": null,
   "metadata": {
    "colab": {},
    "colab_type": "code",
    "id": "sRwitVyKS7c2"
   },
   "outputs": [],
   "source": [
    "tweet_details = [[ tweet.text,tweet.user.screen_name, tweet.user.location] for tweet in tweets]\n",
    "#tweet_details"
   ]
  },
  {
   "cell_type": "code",
   "execution_count": null,
   "metadata": {
    "colab": {},
    "colab_type": "code",
    "id": "y0URhY_mZE_A"
   },
   "outputs": [],
   "source": [
    "tweet_df = pd.DataFrame(data=tweet_details, columns=['text','user', \"location\"])"
   ]
  },
  {
   "cell_type": "code",
   "execution_count": null,
   "metadata": {
    "colab": {
     "base_uri": "https://localhost:8080/",
     "height": 992
    },
    "colab_type": "code",
    "id": "6wdFdf460ZoI",
    "outputId": "92374c0c-c81d-48b4-ad1a-75d456d9dfd2"
   },
   "outputs": [],
   "source": [
    "pd.set_option('max_colwidth', 800)\n",
    "\n",
    "tweet_df.head(20)"
   ]
  },
  {
   "cell_type": "code",
   "execution_count": null,
   "metadata": {
    "colab": {
     "base_uri": "https://localhost:8080/",
     "height": 221
    },
    "colab_type": "code",
    "id": "R1w33ZGZJKTy",
    "outputId": "878a0b66-cb3a-43a7-9990-6600db928863"
   },
   "outputs": [],
   "source": [
    "tweet_df.user.value_counts()"
   ]
  },
  {
   "cell_type": "code",
   "execution_count": null,
   "metadata": {
    "colab": {
     "base_uri": "https://localhost:8080/",
     "height": 221
    },
    "colab_type": "code",
    "id": "BUU5aYBFJJ2V",
    "outputId": "e5babb95-46dd-44eb-ea57-a1182c9dd0a6"
   },
   "outputs": [],
   "source": [
    "tweet_df.location.value_counts()"
   ]
  },
  {
   "cell_type": "code",
   "execution_count": null,
   "metadata": {
    "colab": {},
    "colab_type": "code",
    "id": "MYi6UHSRV3EM"
   },
   "outputs": [],
   "source": [
    "tweet_df.dtypes"
   ]
  },
  {
   "cell_type": "code",
   "execution_count": null,
   "metadata": {
    "colab": {},
    "colab_type": "code",
    "id": "lDSp4VwMrUrU"
   },
   "outputs": [],
   "source": [
    "import re\n",
    "def clean_tweets(text):\n",
    "    text = re.sub(\"RT @[\\w]*:\",\"\",text)\n",
    "    text = re.sub(\"@[\\w]*\",\"\",text)\n",
    "    text = re.sub(\"https?://[A-Za-z0-9./]*\",\"\",text)\n",
    "    text = re.sub(\"\\n\",\"\",text)\n",
    "    return text"
   ]
  },
  {
   "cell_type": "code",
   "execution_count": null,
   "metadata": {
    "colab": {},
    "colab_type": "code",
    "id": "Tcpl5OH-rUh_"
   },
   "outputs": [],
   "source": [
    "tweet_df['text']=tweet_df['text'].apply(lambda x: clean_tweets(x))"
   ]
  },
  {
   "cell_type": "code",
   "execution_count": null,
   "metadata": {
    "colab": {
     "base_uri": "https://localhost:8080/",
     "height": 941
    },
    "colab_type": "code",
    "id": "lOuzh0n6rfzB",
    "outputId": "c20e03a0-6c20-4d48-9f7c-ea28dee623cc"
   },
   "outputs": [],
   "source": [
    "tweet_df.head(20)"
   ]
  },
  {
   "cell_type": "code",
   "execution_count": null,
   "metadata": {
    "colab": {},
    "colab_type": "code",
    "id": "7y_v9rZjiInN"
   },
   "outputs": [],
   "source": [
    "tweet_df.to_csv('tweets.csv')"
   ]
  },
  {
   "cell_type": "markdown",
   "metadata": {
    "colab": {},
    "colab_type": "code",
    "id": "f2Sl-XzEsRHK"
   },
   "source": [
    "#to know what people are talking about\n",
    "!pip install spacy\n",
    "import spacy \n",
    "  \n",
    "nlp = spacy.load('en_core_web_sm') "
   ]
  },
  {
   "cell_type": "markdown",
   "metadata": {
    "colab": {
     "base_uri": "https://localhost:8080/",
     "height": 1000
    },
    "colab_type": "code",
    "id": "MqIv9AhlsXmM",
    "outputId": "1413a378-007f-43d1-cf91-0ebf540059cf"
   },
   "source": [
    "tweet_df['text'].apply(lambda x: [print(\"\\tText : {}, Entity : {}\".format(ent.text, ent.label_)) if (not ent.text.startswith('#')) else \"\"  for ent in nlp(x).ents])"
   ]
  },
  {
   "cell_type": "markdown",
   "metadata": {
    "colab": {},
    "colab_type": "code",
    "id": "65GnQEWNsXYI"
   },
   "source": [
    "tweet_df['entities']=tweet_df['text'].apply(lambda x: [(ent.text, ent.label_) if (not ent.text.startswith('#')) else \"\" for ent in nlp(x).ents])"
   ]
  },
  {
   "cell_type": "markdown",
   "metadata": {
    "colab_type": "text",
    "id": "-0unbkjLY3i1"
   },
   "source": []
  },
  {
   "cell_type": "code",
   "execution_count": null,
   "metadata": {
    "colab": {
     "base_uri": "https://localhost:8080/",
     "height": 992
    },
    "colab_type": "code",
    "id": "uljKlvImaeZz",
    "outputId": "2dcc7cd0-8aee-4e9c-f1fe-2295572de8c6"
   },
   "outputs": [],
   "source": []
  },
  {
   "cell_type": "code",
   "execution_count": null,
   "metadata": {
    "colab": {
     "base_uri": "https://localhost:8080/",
     "height": 105
    },
    "colab_type": "code",
    "id": "I9GPD6OFfPEJ",
    "outputId": "5e8d9635-1008-46ef-d63d-a99e8facde7a"
   },
   "outputs": [],
   "source": [
    "import nltk\n",
    "from nltk.sentiment.vader import SentimentIntensityAnalyzer\n",
    "nltk.download('vader_lexicon')"
   ]
  },
  {
   "cell_type": "code",
   "execution_count": null,
   "metadata": {},
   "outputs": [],
   "source": []
  },
  {
   "cell_type": "code",
   "execution_count": null,
   "metadata": {},
   "outputs": [],
   "source": [
    "from nltk.corpus import stopwords\n",
    "\n",
    "stop_words=set(stopwords.words('english'))\n"
   ]
  },
  {
   "cell_type": "code",
   "execution_count": null,
   "metadata": {},
   "outputs": [],
   "source": [
    "#Tokenization-dividing the tweet into seperate phrases\n",
    "tokenized_tweet=tweet_df['text'].apply(lambda x:x.split())\n",
    "tokenized_tweet.head(3)"
   ]
  },
  {
   "cell_type": "code",
   "execution_count": null,
   "metadata": {},
   "outputs": [],
   "source": [
    "#Stemming: removes ing,es,s\n",
    "from nltk.stem.porter import *\n",
    "stemmer = PorterStemmer()\n",
    "\n",
    "tokenized_tweet = tokenized_tweet.apply(lambda x: [stemmer.stem(i) for i in x]) # stemming\n",
    "tokenized_tweet.head()"
   ]
  },
  {
   "cell_type": "code",
   "execution_count": null,
   "metadata": {},
   "outputs": [],
   "source": [
    "for i in range(len(tokenized_tweet)):\n",
    "    tokenized_tweet[i] = ' '.join(tokenized_tweet[i])\n",
    "\n",
    "tweet_df['text'] = tokenized_tweet"
   ]
  },
  {
   "cell_type": "code",
   "execution_count": null,
   "metadata": {},
   "outputs": [],
   "source": [
    "#removing words like hmm,the ,short words\n",
    "tweet_df['text'] = tweet_df['text'].apply(lambda x: ' '.join([w for w in x.split() if len(w)>3]))"
   ]
  },
  {
   "cell_type": "code",
   "execution_count": null,
   "metadata": {},
   "outputs": [],
   "source": [
    "all_words = ' '.join([text for text in tweet_df['text']])\n",
    "\n",
    "from wordcloud import WordCloud\n",
    "wordcloud = WordCloud(width=800, height=500, random_state=21, max_font_size=110).generate(all_words)\n",
    "\n",
    "plt.figure(figsize=(10, 7))\n",
    "plt.imshow(wordcloud, interpolation=\"bilinear\")\n",
    "plt.axis('off')\n",
    "plt.show()"
   ]
  },
  {
   "cell_type": "code",
   "execution_count": null,
   "metadata": {
    "colab": {},
    "colab_type": "code",
    "id": "E5uf78ExfT8a"
   },
   "outputs": [],
   "source": [
    "sid = SentimentIntensityAnalyzer()"
   ]
  },
  {
   "cell_type": "code",
   "execution_count": null,
   "metadata": {
    "colab": {},
    "colab_type": "code",
    "id": "rqP9TZGwfTqc"
   },
   "outputs": [],
   "source": [
    "tweet_df['sentiment']=tweet_df['text'].apply(lambda x: sid.polarity_scores(x))\n"
   ]
  },
  {
   "cell_type": "code",
   "execution_count": null,
   "metadata": {},
   "outputs": [],
   "source": [
    "!pip install TextBlob"
   ]
  },
  {
   "cell_type": "code",
   "execution_count": null,
   "metadata": {},
   "outputs": [],
   "source": [
    "from textblob import TextBlob\n",
    "tweet_df['polarity_score']=tweet_df['text'].apply(lambda text:TextBlob(text).sentiment.polarity )"
   ]
  },
  {
   "cell_type": "code",
   "execution_count": null,
   "metadata": {
    "colab": {
     "base_uri": "https://localhost:8080/",
     "height": 546
    },
    "colab_type": "code",
    "id": "M2KimWx_uONe",
    "outputId": "368e89a7-eb83-4529-b251-9000dbf6b0e2"
   },
   "outputs": [],
   "source": [
    "tweet_df.head(10)"
   ]
  },
  {
   "cell_type": "code",
   "execution_count": null,
   "metadata": {
    "colab": {},
    "colab_type": "code",
    "id": "yCig89YqNffN"
   },
   "outputs": [],
   "source": [
    "tweet_df['polarity']=tweet_df['polarity_score'].apply(lambda x:'positive' if x>0 else('negative' if x<0 else 'neutral'))"
   ]
  },
  {
   "cell_type": "code",
   "execution_count": null,
   "metadata": {
    "colab": {},
    "colab_type": "code",
    "id": "6TxBWekUNfbD"
   },
   "outputs": [],
   "source": [
    "tweet_df['label']=tweet_df['polarity'].apply(lambda x:1 if x==\"positive\" else(-1 if x==\"negative\" else 0))"
   ]
  },
  {
   "cell_type": "code",
   "execution_count": null,
   "metadata": {
    "colab": {},
    "colab_type": "code",
    "id": "tq-tYDvTNfXX"
   },
   "outputs": [],
   "source": [
    "tweet_df"
   ]
  },
  {
   "cell_type": "code",
   "execution_count": null,
   "metadata": {},
   "outputs": [],
   "source": [
    "#negative words\n",
    "\n",
    "neg_words =' '.join([text for text in tweet_df['text'][tweet_df['label'] == -1]])\n",
    "\n",
    "wordcloud = WordCloud(width=800, height=500, random_state=21, max_font_size=110).generate(neg_words)\n",
    "plt.figure(figsize=(10, 7))\n",
    "plt.imshow(wordcloud, interpolation=\"bilinear\")\n",
    "plt.axis('off')\n",
    "plt.show()"
   ]
  },
  {
   "cell_type": "code",
   "execution_count": null,
   "metadata": {},
   "outputs": [],
   "source": [
    "#positive words\n",
    "\n",
    "pos_words =' '.join([text for text in tweet_df['text'][tweet_df['label'] == 1]])\n",
    "\n",
    "wordcloud = WordCloud(width=500, height=300, random_state=21, max_font_size=110).generate(pos_words)\n",
    "plt.figure(figsize=(10, 7))\n",
    "plt.imshow(wordcloud, interpolation=\"bilinear\")\n",
    "plt.axis('off')\n",
    "plt.show()"
   ]
  },
  {
   "cell_type": "code",
   "execution_count": null,
   "metadata": {},
   "outputs": [],
   "source": [
    "#neutral words\n",
    "\n",
    "normal_words =' '.join([text for text in tweet_df['text'][tweet_df['label'] == 0]])\n",
    "\n",
    "wordcloud = WordCloud(width=800, height=500, random_state=21, max_font_size=110).generate(normal_words)\n",
    "plt.figure(figsize=(10, 7))\n",
    "plt.imshow(wordcloud, interpolation=\"bilinear\")\n",
    "plt.axis('off')\n",
    "plt.show()"
   ]
  },
  {
   "cell_type": "code",
   "execution_count": null,
   "metadata": {},
   "outputs": [],
   "source": [
    "sns.countplot(x='label',data=tweet_df)"
   ]
  }
 ],
 "metadata": {
  "colab": {
   "name": "Copy of Twitter Analysis.ipynb",
   "provenance": []
  },
  "kernelspec": {
   "display_name": "Python 3",
   "language": "python",
   "name": "python3"
  },
  "language_info": {
   "codemirror_mode": {
    "name": "ipython",
    "version": 3
   },
   "file_extension": ".py",
   "mimetype": "text/x-python",
   "name": "python",
   "nbconvert_exporter": "python",
   "pygments_lexer": "ipython3",
   "version": "3.7.6"
  }
 },
 "nbformat": 4,
 "nbformat_minor": 1
}
